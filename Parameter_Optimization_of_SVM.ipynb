{
  "nbformat": 4,
  "nbformat_minor": 0,
  "metadata": {
    "colab": {
      "provenance": [],
      "authorship_tag": "ABX9TyMWnDmuIQiieGgl9qI7CDVI",
      "include_colab_link": true
    },
    "kernelspec": {
      "name": "python3",
      "display_name": "Python 3"
    },
    "language_info": {
      "name": "python"
    }
  },
  "cells": [
    {
      "cell_type": "markdown",
      "metadata": {
        "id": "view-in-github",
        "colab_type": "text"
      },
      "source": [
        "<a href=\"https://colab.research.google.com/github/Prerit-Bhagat/Parameter-Optimization-Using-SVM/blob/main/Parameter_Optimization_of_SVM.ipynb\" target=\"_parent\"><img src=\"https://colab.research.google.com/assets/colab-badge.svg\" alt=\"Open In Colab\"/></a>"
      ]
    },
    {
      "cell_type": "code",
      "execution_count": null,
      "metadata": {
        "colab": {
          "base_uri": "https://localhost:8080/"
        },
        "id": "4G3Do_ExoUKW",
        "outputId": "0250f5d1-1a08-468b-db08-3d76a467f986"
      },
      "outputs": [
        {
          "output_type": "stream",
          "name": "stdout",
          "text": [
            "Requirement already satisfied: ucimlrepo in /usr/local/lib/python3.11/dist-packages (0.0.7)\n",
            "Requirement already satisfied: pandas>=1.0.0 in /usr/local/lib/python3.11/dist-packages (from ucimlrepo) (2.2.2)\n",
            "Requirement already satisfied: certifi>=2020.12.5 in /usr/local/lib/python3.11/dist-packages (from ucimlrepo) (2025.1.31)\n",
            "Requirement already satisfied: numpy>=1.23.2 in /usr/local/lib/python3.11/dist-packages (from pandas>=1.0.0->ucimlrepo) (2.0.2)\n",
            "Requirement already satisfied: python-dateutil>=2.8.2 in /usr/local/lib/python3.11/dist-packages (from pandas>=1.0.0->ucimlrepo) (2.8.2)\n",
            "Requirement already satisfied: pytz>=2020.1 in /usr/local/lib/python3.11/dist-packages (from pandas>=1.0.0->ucimlrepo) (2025.2)\n",
            "Requirement already satisfied: tzdata>=2022.7 in /usr/local/lib/python3.11/dist-packages (from pandas>=1.0.0->ucimlrepo) (2025.2)\n",
            "Requirement already satisfied: six>=1.5 in /usr/local/lib/python3.11/dist-packages (from python-dateutil>=2.8.2->pandas>=1.0.0->ucimlrepo) (1.17.0)\n"
          ]
        }
      ],
      "source": [
        "!pip install ucimlrepo"
      ]
    },
    {
      "cell_type": "code",
      "source": [
        "import pandas as pd\n",
        "from ucimlrepo import fetch_ucirepo\n",
        "import matplotlib.pyplot as plt\n",
        "import numpy as np\n",
        "from sklearn.model_selection import train_test_split\n",
        "data = fetch_ucirepo(id=60)\n",
        "X_all = data.data.features\n",
        "y_all = data.data.targets.squeeze().astype(int)  # convert to int classes"
      ],
      "metadata": {
        "id": "oQBMTDv3oWS1"
      },
      "execution_count": null,
      "outputs": []
    },
    {
      "cell_type": "code",
      "source": [
        "from sklearn.svm import SVC\n",
        "import numpy as np\n",
        "from sklearn.metrics import accuracy_score\n",
        "import matplotlib.pyplot as plt\n",
        "import random as r"
      ],
      "metadata": {
        "id": "VynyklFbomGa"
      },
      "execution_count": null,
      "outputs": []
    },
    {
      "cell_type": "code",
      "source": [
        "kernelList = ['linear', 'poly', 'rbf', 'sigmoid']\n",
        "overall_results = []\n",
        "best_overall_accuracy = 0\n",
        "best_sample_log = None"
      ],
      "metadata": {
        "id": "X8TAVYdioxy1"
      },
      "execution_count": null,
      "outputs": []
    },
    {
      "cell_type": "code",
      "source": [
        "for sample_no in range(10):\n",
        "    # Split the dataset\n",
        "    X_train_full, X_test, y_train_full, y_test = train_test_split(\n",
        "        X_all, y_all, test_size=0.3, random_state=sample_no)\n",
        "\n",
        "    # Select only 50 rows for training\n",
        "    # Select only 50 rows for training\n",
        "    X_train = X_train_full.sample(n=50, random_state=sample_no)\n",
        "    y_train = y_train_full.loc[X_train.index]\n",
        "\n",
        "# Reset index if needed\n",
        "    X_train = X_train.reset_index(drop=True)\n",
        "    y_train = y_train.reset_index(drop=True)\n",
        "\n",
        "\n",
        "    bestAccuracy = 0\n",
        "    bestKernel = \"\"\n",
        "    bestC = 0\n",
        "    bestGamma = 0\n",
        "    iteration_log = []\n",
        "\n",
        "    # Optimization loop\n",
        "    for i in range(100):\n",
        "        kernel = r.choice(kernelList)\n",
        "        C = round(r.uniform(0.1, 10.0), 2)\n",
        "        gamma = round(r.uniform(0.001, 1.0), 3)\n",
        "\n",
        "        try:\n",
        "            model = SVC(kernel=kernel, C=C, gamma=gamma)\n",
        "            model.fit(X_train, y_train)\n",
        "            preds = model.predict(X_test)\n",
        "            acc = accuracy_score(y_test, preds) * 100\n",
        "        except:\n",
        "            acc = 0\n",
        "\n",
        "        if acc > bestAccuracy:\n",
        "            bestAccuracy = acc\n",
        "            bestKernel = kernel\n",
        "            bestC = C\n",
        "            bestGamma = gamma\n",
        "\n",
        "        if i % 10 == 0:\n",
        "            iteration_log.append({\n",
        "                'Iteration': i,\n",
        "                'Fitness (bestAccuracy)': round(bestAccuracy, 4),\n",
        "                'bestKernel': bestKernel,\n",
        "                'bestC': bestC,\n",
        "                'bestGamma': bestGamma,\n",
        "                'sample_no': sample_no\n",
        "            })\n",
        "\n",
        "    overall_results.append({\n",
        "        'Sample': sample_no,\n",
        "        'BestAccuracy': round(bestAccuracy, 4),\n",
        "        'Kernel': bestKernel,\n",
        "        'C': bestC,\n",
        "        'Gamma': bestGamma\n",
        "    })\n",
        "\n",
        "    if bestAccuracy > best_overall_accuracy:\n",
        "        best_overall_accuracy = bestAccuracy\n",
        "        best_sample_log = pd.DataFrame(iteration_log)"
      ],
      "metadata": {
        "id": "XW6pFvPKoy0y"
      },
      "execution_count": null,
      "outputs": []
    },
    {
      "cell_type": "code",
      "source": [
        "# Plot convergence graph for best sample\n",
        "plt.figure(figsize=(10, 5))\n",
        "plt.plot(best_sample_log['Iteration'], best_sample_log['Fitness (bestAccuracy)'], marker='o', linestyle='-', color='darkorange')\n",
        "plt.title('Convergence Plot for Best Sample (50-row Training)', fontsize=14)\n",
        "plt.xlabel('Iteration')\n",
        "plt.ylabel('Best Accuracy (%)')\n",
        "plt.grid(True)\n",
        "plt.tight_layout()\n",
        "plt.show()\n",
        "plt.savefig('convergence_plot.png')"
      ],
      "metadata": {
        "colab": {
          "base_uri": "https://localhost:8080/",
          "height": 460
        },
        "id": "sRDp4zv5o3U_",
        "outputId": "13a8eafe-8e56-4526-e1b4-03d6be0d4df4"
      },
      "execution_count": null,
      "outputs": [
        {
          "output_type": "display_data",
          "data": {
            "text/plain": [
              "<Figure size 1000x500 with 1 Axes>"
            ],
            "image/png": "[encoded data removed]"
          },
          "metadata": {}
        },
        {
          "output_type": "display_data",
          "data": {
            "text/plain": [
              "<Figure size 640x480 with 0 Axes>"
            ]
          },
          "metadata": {}
        }
      ]
    },
    {
      "cell_type": "code",
      "source": [],
      "metadata": {
        "id": "2xcjCdK0o5Or"
      },
      "execution_count": null,
      "outputs": []
    }
  ]
}